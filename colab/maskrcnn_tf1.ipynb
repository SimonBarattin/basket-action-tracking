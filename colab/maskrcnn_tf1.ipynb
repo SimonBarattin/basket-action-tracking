{
  "nbformat": 4,
  "nbformat_minor": 0,
  "metadata": {
    "accelerator": "GPU",
    "colab": {
      "name": "MaskRCNN-tf1.ipynb",
      "provenance": [],
      "collapsed_sections": [],
      "authorship_tag": "ABX9TyMJzXERHSN/11lbJht5XgHT",
      "include_colab_link": true
    },
    "kernelspec": {
      "display_name": "Python 3",
      "name": "python3"
    }
  },
  "cells": [
    {
      "cell_type": "markdown",
      "metadata": {
        "id": "view-in-github",
        "colab_type": "text"
      },
      "source": [
        "<a href=\"https://colab.research.google.com/github/simoberny/basket_tracking/blob/master/maskrcnn_tf1.ipynb\" target=\"_parent\"><img src=\"https://colab.research.google.com/assets/colab-badge.svg\" alt=\"Open In Colab\"/></a>"
      ]
    },
    {
      "cell_type": "code",
      "metadata": {
        "colab": {
          "base_uri": "https://localhost:8080/"
        },
        "id": "Wx-sW8wOwxlD",
        "outputId": "62bc2efb-1aaa-48b9-a630-991f922aeb62"
      },
      "source": [
        "!pip uninstall tensorflow -y\n",
        "!pip uninstall tensorflow-gpu -y\n",
        "!pip uninstall tf-nightly-gpu -y"
      ],
      "execution_count": null,
      "outputs": [
        {
          "output_type": "stream",
          "text": [
            "Uninstalling tensorflow-2.4.0:\n",
            "  Successfully uninstalled tensorflow-2.4.0\n",
            "\u001b[33mWARNING: Skipping tensorflow-gpu as it is not installed.\u001b[0m\n",
            "\u001b[33mWARNING: Skipping tf-nightly-gpu as it is not installed.\u001b[0m\n"
          ],
          "name": "stdout"
        }
      ]
    },
    {
      "cell_type": "code",
      "metadata": {
        "colab": {
          "base_uri": "https://localhost:8080/"
        },
        "id": "fAWHTgJIA2cd",
        "outputId": "316b3939-9f43-4787-c1b6-a8b6ba688381"
      },
      "source": [
        "from google.colab import drive\n",
        "drive.mount('/content/gdrive')\n",
        "!ls"
      ],
      "execution_count": null,
      "outputs": [
        {
          "output_type": "stream",
          "text": [
            "Mounted at /content/gdrive\n",
            "gdrive\tsample_data\n"
          ],
          "name": "stdout"
        }
      ]
    },
    {
      "cell_type": "code",
      "metadata": {
        "id": "w1xdp0ewL4Jt"
      },
      "source": [
        "%cd /content/gdrive/My\\ Drive/maskrcnn/maskrcnn_matterport/\n",
        "\n",
        "!pip install -q PyDrive\n",
        "!pip install -r requirements.txt\n",
        "!python setup.py install"
      ],
      "execution_count": null,
      "outputs": []
    },
    {
      "cell_type": "code",
      "metadata": {
        "id": "KP6Nun3jbwsx"
      },
      "source": [
        "!tar -xzvf ./cudnn/cudnn-10.1-linux-x64-v8.0.5.39.tgz -C /usr/local/\n",
        "!chmod a+r /usr/local/cuda/include/cudnn.h\n",
        "\n",
        "!cat /usr/local/cuda/include/cudnn.h | grep CUDNN_MAJOR -A 2"
      ],
      "execution_count": null,
      "outputs": []
    },
    {
      "cell_type": "code",
      "metadata": {
        "colab": {
          "base_uri": "https://localhost:8080/"
        },
        "id": "SKbjx3nO16Ci",
        "outputId": "2a248292-a6ed-4465-fc2d-55a2161cf57b"
      },
      "source": [
        "%tensorflow_version 1.x"
      ],
      "execution_count": null,
      "outputs": [
        {
          "output_type": "stream",
          "text": [
            "TensorFlow 1.x selected.\n"
          ],
          "name": "stdout"
        }
      ]
    },
    {
      "cell_type": "code",
      "metadata": {
        "colab": {
          "base_uri": "https://localhost:8080/"
        },
        "id": "bMJED3kDbRiO",
        "outputId": "e3cf59b5-0b40-4152-ae3b-2a392b5a9ea0"
      },
      "source": [
        "!nvcc --version\n",
        "\n",
        "from tensorflow.python.client import device_lib\n",
        "device_lib.list_local_devices()\n",
        "\n",
        "import tensorflow as tf\n",
        "\n",
        "print (tf.test.gpu_device_name())"
      ],
      "execution_count": null,
      "outputs": [
        {
          "output_type": "stream",
          "text": [
            "nvcc: NVIDIA (R) Cuda compiler driver\n",
            "Copyright (c) 2005-2019 NVIDIA Corporation\n",
            "Built on Sun_Jul_28_19:07:16_PDT_2019\n",
            "Cuda compilation tools, release 10.1, V10.1.243\n",
            "\n"
          ],
          "name": "stdout"
        }
      ]
    },
    {
      "cell_type": "code",
      "metadata": {
        "colab": {
          "base_uri": "https://localhost:8080/"
        },
        "id": "TXkMrEOLO992",
        "outputId": "9a8a4159-331d-4cb1-8157-087cfc6c0c40"
      },
      "source": [
        "%cd /content/gdrive/My\\ Drive/maskrcnn/maskrcnn_matterport/samples/custom/\n"
      ],
      "execution_count": null,
      "outputs": [
        {
          "output_type": "stream",
          "text": [
            "/content/gdrive/My Drive/maskrcnn/maskrcnn_matterport/samples/custom\n"
          ],
          "name": "stdout"
        }
      ]
    },
    {
      "cell_type": "code",
      "metadata": {
        "id": "6kF5ycnl4Dlx"
      },
      "source": [
        "%load_ext tensorboard\r\n",
        "\r\n",
        "import tensorflow as tf\r\n",
        "import datetime\r\n",
        "\r\n",
        "%cd /content/gdrive/My\\ Drive/maskrcnn/maskrcnn_matterport/\r\n",
        "%tensorboard --logdir logs"
      ],
      "execution_count": null,
      "outputs": []
    },
    {
      "cell_type": "code",
      "metadata": {
        "id": "GU5FRpsuEXc3"
      },
      "source": [
        ""
      ],
      "execution_count": null,
      "outputs": []
    },
    {
      "cell_type": "code",
      "metadata": {
        "id": "eSxkiKg4PdcJ"
      },
      "source": [
        "!python train.py"
      ],
      "execution_count": null,
      "outputs": []
    },
    {
      "cell_type": "code",
      "metadata": {
        "id": "bb37KTax72Y6"
      },
      "source": [
        "!python player_detection.py detect --weights=coco --video=../../videos/prova2.mp4"
      ],
      "execution_count": null,
      "outputs": []
    },
    {
      "cell_type": "code",
      "metadata": {
        "colab": {
          "base_uri": "https://localhost:8080/"
        },
        "id": "JryQ2cLiXeSN",
        "outputId": "68fb4f36-f25c-4c23-b99d-41b2b120f8a4"
      },
      "source": [
        "!python tracking.py --video=../../videos/quarto_tempo_trim.mp4 --det=det/det_maskrcnn.txt"
      ],
      "execution_count": null,
      "outputs": [
        {
          "output_type": "stream",
          "text": [
            "Video:  ../../videos/quarto_tempo_trim.mp4\n",
            "Detections:  det/det_maskrcnn.txt\n",
            "100% 331/332 [02:03<00:00,  2.67it/s]\n"
          ],
          "name": "stdout"
        }
      ]
    },
    {
      "cell_type": "code",
      "metadata": {
        "colab": {
          "base_uri": "https://localhost:8080/"
        },
        "id": "e3a6OQt0sGrD",
        "outputId": "76c3c433-ff1d-4039-a9b8-c93bf58c6077"
      },
      "source": [
        "!python interpolation.py --video=../../videos/prova2.mp4 --det=det/det_track_maskrcnn.txt"
      ],
      "execution_count": null,
      "outputs": [
        {
          "output_type": "stream",
          "text": [
            "Detections:  det/det_track_maskrcnn.txt\n",
            "NT: 2, index ora: 2\n",
            "NT: 2, index ora: 548\n",
            "Space x: 28.993977864583332, before: 2482.038330078125, after: 2569.020263671875\n",
            "NT: 18, index ora: 568\n",
            "Space x: 15.842477898848685, before: 2569.02587890625, after: 2870.032958984375\n",
            "NT: 1, index ora: 690\n",
            "Space x: -220.66278076171875, before: 2168.32373046875, after: 1726.9981689453125\n",
            "\n",
            "------------- Saving video.... ---------------\n",
            "\n",
            "100% 919/919 [03:54<00:00,  3.92it/s]\n"
          ],
          "name": "stdout"
        }
      ]
    }
  ]
}